{
 "cells": [
  {
   "cell_type": "code",
   "execution_count": 3,
   "metadata": {},
   "outputs": [],
   "source": [
    "import numpy as np\n",
    "import pandas as pd\n",
    "import cv2 as cv"
   ]
  },
  {
   "cell_type": "code",
   "execution_count": 58,
   "metadata": {},
   "outputs": [],
   "source": [
    "black_img_height = int(input(\"Enter the black image height:\"))\n",
    "black_img_width = int(input(\"Enter the black image width:\"))\n",
    "black_img = np.zeros((black_img_height, black_img_height))\n",
    "white_img_height = int(input(\"Enter the white image height:\"))\n",
    "white_img_width = int(input(\"Enter the white image width:\"))\n",
    "white_img = np.ones((white_img_height, white_img_width))\n",
    "white_img *= 255"
   ]
  },
  {
   "cell_type": "code",
   "execution_count": 33,
   "metadata": {},
   "outputs": [
    {
     "data": {
      "text/plain": [
       "-1"
      ]
     },
     "execution_count": 33,
     "metadata": {},
     "output_type": "execute_result"
    }
   ],
   "source": [
    "cv.imshow(\"Black\", black_img)\n",
    "cv.waitKey(0)"
   ]
  },
  {
   "cell_type": "code",
   "execution_count": 34,
   "metadata": {},
   "outputs": [
    {
     "data": {
      "text/plain": [
       "-1"
      ]
     },
     "execution_count": 34,
     "metadata": {},
     "output_type": "execute_result"
    }
   ],
   "source": [
    "cv.imshow(\"White\", white_img)\n",
    "cv.waitKey(0)"
   ]
  },
  {
   "cell_type": "code",
   "execution_count": 81,
   "metadata": {},
   "outputs": [],
   "source": [
    "for i in range(black_img_height):\n",
    "    for j in range(black_img_width):\n",
    "        black_img[j][i] = np.sin(2 * 3.14 * 4000 * (i+j))"
   ]
  },
  {
   "cell_type": "code",
   "execution_count": 82,
   "metadata": {},
   "outputs": [
    {
     "data": {
      "text/plain": [
       "-1"
      ]
     },
     "execution_count": 82,
     "metadata": {},
     "output_type": "execute_result"
    }
   ],
   "source": [
    "cv.imshow(\"Black\", black_img)\n",
    "cv.waitKey(0)"
   ]
  },
  {
   "cell_type": "code",
   "execution_count": 46,
   "metadata": {},
   "outputs": [
    {
     "data": {
      "text/plain": [
       "-1"
      ]
     },
     "execution_count": 46,
     "metadata": {},
     "output_type": "execute_result"
    }
   ],
   "source": [
    "black_img[0:white_img.shape[0], 0:white_img.shape[1]] = white_img\n",
    "black_img[black_img.shape[0] - white_img.shape[0]:black_img.shape[0], black_img.shape[1] - white_img.shape[1]:black_img.shape[1]] = white_img\n",
    "black_img[black_img.shape[0] - white_img.shape[0]:black_img.shape[0], 0:white_img.shape[1]] = white_img\n",
    "black_img[0:white_img.shape[0], black_img.shape[1] - white_img.shape[1]:black_img.shape[1]] = white_img\n",
    "cv.imshow(\"Black\", black_img)\n",
    "cv.waitKey(0)"
   ]
  },
  {
   "cell_type": "code",
   "execution_count": 44,
   "metadata": {},
   "outputs": [],
   "source": [
    "center_black = (black_img_height//2, black_img_width//2)\n",
    "center_white = (white_img_height//2, white_img_width//2)\n",
    "black_img[center_black[0] - center_white[0]:center_black[0] + center_white[0], center_black[1] - center_white[1]:center_black[1] + center_white[1]] = white_img"
   ]
  },
  {
   "cell_type": "code",
   "execution_count": 45,
   "metadata": {},
   "outputs": [
    {
     "data": {
      "text/plain": [
       "-1"
      ]
     },
     "execution_count": 45,
     "metadata": {},
     "output_type": "execute_result"
    }
   ],
   "source": [
    "cv.imshow(\"Black\", black_img)\n",
    "cv.waitKey(0)"
   ]
  },
  {
   "cell_type": "code",
   "execution_count": 84,
   "metadata": {},
   "outputs": [],
   "source": [
    "x = np.arange(black_img_width)\n",
    "y = np.arange(black_img_height)\n",
    "X, Y = np.meshgrid(x, y)\n",
    "\n",
    "Z = np.sin( 2* np.pi * (X + Y))\n",
    "\n",
    "Z_normalized = ((Z - Z.min()) / (Z.max() - Z.min()) * 255).astype(np.uint8)\n",
    "\n",
    "cv.imshow('Image of f(x, y) = sin(2 * pi * (x + y))', Z_normalized)\n",
    "cv.waitKey(0)\n",
    "cv.destroyAllWindows()"
   ]
  },
  {
   "cell_type": "code",
   "execution_count": null,
   "metadata": {},
   "outputs": [],
   "source": []
  }
 ],
 "metadata": {
  "kernelspec": {
   "display_name": "Python 3",
   "language": "python",
   "name": "python3"
  },
  "language_info": {
   "codemirror_mode": {
    "name": "ipython",
    "version": 3
   },
   "file_extension": ".py",
   "mimetype": "text/x-python",
   "name": "python",
   "nbconvert_exporter": "python",
   "pygments_lexer": "ipython3",
   "version": "3.9.10"
  }
 },
 "nbformat": 4,
 "nbformat_minor": 2
}
