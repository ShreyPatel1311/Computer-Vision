{
 "cells": [
  {
   "cell_type": "code",
   "execution_count": 1,
   "metadata": {},
   "outputs": [],
   "source": [
    "import numpy as np"
   ]
  },
  {
   "cell_type": "code",
   "execution_count": 2,
   "metadata": {},
   "outputs": [
    {
     "data": {
      "text/plain": [
       "array([1, 2, 3, 4])"
      ]
     },
     "execution_count": 2,
     "metadata": {},
     "output_type": "execute_result"
    }
   ],
   "source": [
    "x = [1, 2, 3, 4]\n",
    "arr = np.array(x)\n",
    "arr"
   ]
  },
  {
   "cell_type": "code",
   "execution_count": 3,
   "metadata": {},
   "outputs": [
    {
     "data": {
      "text/plain": [
       "array([ 934,  624, 1126,  486, 1990])"
      ]
     },
     "execution_count": 3,
     "metadata": {},
     "output_type": "execute_result"
    }
   ],
   "source": [
    "y = np.random.randint(1, 2000, 5)\n",
    "y"
   ]
  },
  {
   "cell_type": "code",
   "execution_count": 4,
   "metadata": {},
   "outputs": [
    {
     "data": {
      "text/plain": [
       "array([0.11083492, 0.05138405, 0.17556754, 0.36669039, 0.05003708,\n",
       "       0.4215175 , 0.03649002, 0.71210741, 0.48318145, 0.5330994 ,\n",
       "       0.30658249, 0.22991893, 0.46404185, 0.60237076, 0.11546551,\n",
       "       0.6757863 , 0.09778384, 0.12812527, 0.70315779, 0.64401349,\n",
       "       0.49990561, 0.46372161, 0.80490214, 0.61226114, 0.44778642,\n",
       "       0.5194004 , 0.36950792, 0.3429985 , 0.74300813, 0.03925533,\n",
       "       0.78776694, 0.0681258 , 0.72235424, 0.73737622, 0.09807932,\n",
       "       0.47644853, 0.88321399, 0.48940689, 0.9240161 , 0.03303685,\n",
       "       0.87970832, 0.16567158, 0.21927904, 0.78997382, 0.24534402,\n",
       "       0.19305774, 0.87730349, 0.93616815, 0.13932542, 0.63201432])"
      ]
     },
     "execution_count": 4,
     "metadata": {},
     "output_type": "execute_result"
    }
   ],
   "source": [
    "x = np.random.rand(50)\n",
    "x"
   ]
  },
  {
   "cell_type": "code",
   "execution_count": 5,
   "metadata": {},
   "outputs": [
    {
     "data": {
      "text/plain": [
       "array([[0.11083492, 0.05138405, 0.17556754, 0.36669039, 0.05003708],\n",
       "       [0.4215175 , 0.03649002, 0.71210741, 0.48318145, 0.5330994 ],\n",
       "       [0.30658249, 0.22991893, 0.46404185, 0.60237076, 0.11546551],\n",
       "       [0.6757863 , 0.09778384, 0.12812527, 0.70315779, 0.64401349],\n",
       "       [0.49990561, 0.46372161, 0.80490214, 0.61226114, 0.44778642],\n",
       "       [0.5194004 , 0.36950792, 0.3429985 , 0.74300813, 0.03925533],\n",
       "       [0.78776694, 0.0681258 , 0.72235424, 0.73737622, 0.09807932],\n",
       "       [0.47644853, 0.88321399, 0.48940689, 0.9240161 , 0.03303685],\n",
       "       [0.87970832, 0.16567158, 0.21927904, 0.78997382, 0.24534402],\n",
       "       [0.19305774, 0.87730349, 0.93616815, 0.13932542, 0.63201432]])"
      ]
     },
     "execution_count": 5,
     "metadata": {},
     "output_type": "execute_result"
    }
   ],
   "source": [
    "np.reshape(x, (10, 5))"
   ]
  },
  {
   "cell_type": "code",
   "execution_count": 1,
   "metadata": {},
   "outputs": [],
   "source": [
    "import cv2\n",
    "img = cv2.imread(\"C:\\\\College\\\\College\\\\Python\\\\Computer Vision\\\\Photos\\\\G-1.jpg\")\n",
    "img2 = cv2.imread(\"C:\\\\College\\\\College\\\\Python\\\\Computer Vision\\\\Photos\\\\G-2.jpg\")\n",
    "img3 = cv2.imread(\"C:\\\\College\\\\College\\\\Python\\\\Computer Vision\\\\Photos\\\\G-3.jpg\")\n",
    "\n",
    "l = [img, img2, img3]\n",
    "cv2.imshow('Image-1', img)\n",
    "cv2.imshow('Image-2', img2)\n",
    "cv2.imshow('Image-3', img3)\n",
    "cv2.waitKey(0)\n",
    "cv2.destroyAllWindows()"
   ]
  },
  {
   "cell_type": "code",
   "execution_count": 2,
   "metadata": {},
   "outputs": [
    {
     "data": {
      "text/plain": [
       "-1"
      ]
     },
     "execution_count": 2,
     "metadata": {},
     "output_type": "execute_result"
    }
   ],
   "source": [
    "img = cv2.imread(\"C:\\\\College\\\\College\\\\Python\\\\Computer Vision\\\\Photos\\\\G-1.jpg\", 0)\n",
    "cv2.imshow('Image', img)\n",
    "cv2.waitKey(0)"
   ]
  },
  {
   "cell_type": "code",
   "execution_count": 5,
   "metadata": {},
   "outputs": [],
   "source": [
    "flip = cv2.flip(img, -1)\n",
    "cv2.imshow('Flip', flip)\n",
    "key = cv2.waitKey(0)\n",
    "\n",
    "if(key == ord('q')):\n",
    "    cv2.destroyAllWindows()\n",
    "elif(key == ord('s')):\n",
    "    cv2.imwrite('flip.jpg', flip)\n",
    "    cv2.destroyAllWindows()"
   ]
  },
  {
   "cell_type": "code",
   "execution_count": 4,
   "metadata": {},
   "outputs": [],
   "source": [
    "for i in range(len(l)):\n",
    "    flip = cv2.flip(l[i], -1)\n",
    "    cv2.imshow(f'Flip{i}', flip)\n",
    "    key = cv2.waitKey(0)\n",
    "    if(key == ord('q')):\n",
    "        cv2.destroyAllWindows()\n",
    "    elif(key == ord('s')):\n",
    "        cv2.imwrite(f'flip-{i}.jpg', flip)\n",
    "        cv2.destroyAllWindows()"
   ]
  },
  {
   "cell_type": "code",
   "execution_count": null,
   "metadata": {},
   "outputs": [],
   "source": []
  }
 ],
 "metadata": {
  "kernelspec": {
   "display_name": "Python 3",
   "language": "python",
   "name": "python3"
  },
  "language_info": {
   "codemirror_mode": {
    "name": "ipython",
    "version": 3
   },
   "file_extension": ".py",
   "mimetype": "text/x-python",
   "name": "python",
   "nbconvert_exporter": "python",
   "pygments_lexer": "ipython3",
   "version": "3.11.7"
  }
 },
 "nbformat": 4,
 "nbformat_minor": 2
}
