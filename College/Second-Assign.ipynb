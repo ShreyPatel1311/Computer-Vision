{
 "cells": [
  {
   "cell_type": "code",
   "execution_count": 1,
   "metadata": {},
   "outputs": [],
   "source": [
    "import cv2 as cv\n",
    "import numpy as np"
   ]
  },
  {
   "cell_type": "code",
   "execution_count": 2,
   "metadata": {},
   "outputs": [],
   "source": [
    "img = cv.imread(\"C:\\\\College\\\\College\\\\Python\\\\Computer Vision\\\\Photos\\\\G-1.jpg\")\n",
    "dst = np.float32([[1, 0, 500], [0, 1, 250]])"
   ]
  },
  {
   "cell_type": "code",
   "execution_count": 3,
   "metadata": {},
   "outputs": [
    {
     "data": {
      "text/plain": [
       "-1"
      ]
     },
     "execution_count": 3,
     "metadata": {},
     "output_type": "execute_result"
    }
   ],
   "source": [
    "dst_img = np.float32([[1, 0, 500], [0, 1, 250]])        \n",
    "#Matrix[[a, b, c], [d, e, f]]\n",
    "#a, e :- Scaling\\Null Value=1\n",
    "#b, d :- Rotation\\Null Value=0\n",
    "#c, f :- Transformation\n",
    "trans_img = cv.warpAffine(img, dst_img, (img.shape[1], img.shape[0]))\n",
    "cv.imshow(\"Translated Image\", trans_img)\n",
    "cv.waitKey(0)"
   ]
  },
  {
   "cell_type": "code",
   "execution_count": 4,
   "metadata": {},
   "outputs": [
    {
     "data": {
      "text/plain": [
       "-1"
      ]
     },
     "execution_count": 4,
     "metadata": {},
     "output_type": "execute_result"
    }
   ],
   "source": [
    "(h, w) = img.shape[:2]\n",
    "center = (h//2, w//2)\n",
    "angle = 45\n",
    "scale = 1.5\n",
    "\n",
    "M = cv.getRotationMatrix2D(center, angle, scale)\n",
    "rot_img = cv.warpAffine(img, M, (w, h))\n",
    "cv.imwrite('rotated_image.jpg', rot_img)\n",
    "cv.imshow(\"Rotated_Image\", rot_img)\n",
    "cv.waitKey(0)"
   ]
  },
  {
   "cell_type": "code",
   "execution_count": 10,
   "metadata": {},
   "outputs": [
    {
     "data": {
      "text/plain": [
       "-1"
      ]
     },
     "execution_count": 10,
     "metadata": {},
     "output_type": "execute_result"
    }
   ],
   "source": [
    "scale_x = 0.5\n",
    "scale_y = 0.5\n",
    "\n",
    "new_width = int(img.shape[1] * scale_x)\n",
    "new_height = int(img.shape[0] * scale_y)\n",
    "\n",
    "scaled_img = cv.resize(img, (new_width, new_height), interpolation=cv.INTER_LINEAR)\n",
    "\n",
    "cv.imshow(\"Scaled Image\", scaled_img)\n",
    "cv.waitKey(0)"
   ]
  },
  {
   "cell_type": "code",
   "execution_count": 11,
   "metadata": {},
   "outputs": [
    {
     "data": {
      "text/plain": [
       "-1"
      ]
     },
     "execution_count": 11,
     "metadata": {},
     "output_type": "execute_result"
    }
   ],
   "source": [
    "reflected_image_hor = cv.flip(img, 1)\n",
    "reflected_image_ver = cv.flip(img, 0)\n",
    "reflected_image_both = cv.flip(img, -1)\n",
    "\n",
    "cv.imshow(\"Horizontal Flip\", reflected_image_hor)\n",
    "cv.imshow(\"Vertical Flip\", reflected_image_ver)\n",
    "cv.imshow(\"Flipped Both Side\", reflected_image_both)\n",
    "\n",
    "cv.waitKey(0)"
   ]
  },
  {
   "cell_type": "code",
   "execution_count": 4,
   "metadata": {},
   "outputs": [
    {
     "data": {
      "text/plain": [
       "-1"
      ]
     },
     "execution_count": 4,
     "metadata": {},
     "output_type": "execute_result"
    }
   ],
   "source": [
    "height, width = img.shape[:2]\n",
    "M = np.array([[1, 0, 0], [0, -1, height]], dtype = np.float32)\n",
    "#for horizontal flip [[-1, 0, width], [0, 1, 0]]\n",
    "\n",
    "vertical_flip = cv.warpAffine(img, M, (width, height))\n",
    "cv.imshow(\"Vertical Flip\", vertical_flip)\n",
    "cv.waitKey(0)"
   ]
  },
  {
   "cell_type": "code",
   "execution_count": null,
   "metadata": {},
   "outputs": [],
   "source": []
  }
 ],
 "metadata": {
  "kernelspec": {
   "display_name": "Python 3",
   "language": "python",
   "name": "python3"
  },
  "language_info": {
   "codemirror_mode": {
    "name": "ipython",
    "version": 3
   },
   "file_extension": ".py",
   "mimetype": "text/x-python",
   "name": "python",
   "nbconvert_exporter": "python",
   "pygments_lexer": "ipython3",
   "version": "3.9.10"
  }
 },
 "nbformat": 4,
 "nbformat_minor": 2
}
